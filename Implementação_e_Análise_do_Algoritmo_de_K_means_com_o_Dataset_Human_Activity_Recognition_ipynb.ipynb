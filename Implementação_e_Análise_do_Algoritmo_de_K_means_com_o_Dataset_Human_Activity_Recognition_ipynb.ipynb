{
  "nbformat": 4,
  "nbformat_minor": 0,
  "metadata": {
    "colab": {
      "provenance": [],
      "mount_file_id": "1zyOsaTxiHAI4Ssl1e1lU_xMXCa_zASQP",
      "authorship_tag": "ABX9TyNIFkRVKnkv9GifHgSfa+rD",
      "include_colab_link": true
    },
    "kernelspec": {
      "name": "python3",
      "display_name": "Python 3"
    },
    "language_info": {
      "name": "python"
    }
  },
  "cells": [
    {
      "cell_type": "markdown",
      "metadata": {
        "id": "view-in-github",
        "colab_type": "text"
      },
      "source": [
        "<a href=\"https://colab.research.google.com/github/felipe-luis00/Projeto-Implementa-o-e-An-lise-do-Algoritmo-de-K-means-com-o-Dataset-Human-Activity-Recognition/blob/main/Implementa%C3%A7%C3%A3o_e_An%C3%A1lise_do_Algoritmo_de_K_means_com_o_Dataset_Human_Activity_Recognition_ipynb.ipynb\" target=\"_parent\"><img src=\"https://colab.research.google.com/assets/colab-badge.svg\" alt=\"Open In Colab\"/></a>"
      ]
    },
    {
      "cell_type": "code",
      "source": [
        "# Importação de bibliotecas\n",
        "import pandas as pd\n",
        "import numpy as np\n",
        "from sklearn.decomposition import PCA\n",
        "from sklearn.preprocessing import StandardScaler\n",
        "from sklearn.cluster import KMeans\n",
        "from sklearn.metrics import silhouette_score\n",
        "import matplotlib.pyplot as plt\n",
        "import seaborn as sns\n",
        "\n",
        "# Caminhos dos arquivos\n",
        "train_features_path = \"UCI_HAR_Dataset/train/X_train.txt\"\n",
        "train_labels_path = \"UCI_HAR_Dataset/train/y_train.txt\"\n",
        "features_names_path = \"UCI_HAR_Dataset/features.txt\"\n",
        "\n",
        "# Carregar os dados\n",
        "features_names = pd.read_csv(features_names_path, delim_whitespace=True, header=None)[1].tolist()\n",
        "X_train = pd.read_csv(train_features_path, delim_whitespace=True, header=None, names=features_names)\n",
        "y_train = pd.read_csv(train_labels_path, delim_whitespace=True, header=None, names=[\"Activity\"])\n",
        "\n",
        "# Normalização dos dados\n",
        "scaler = StandardScaler()\n",
        "X_train_scaled = scaler.fit_transform(X_train)\n",
        "\n",
        "# Redução de dimensionalidade com PCA\n",
        "pca = PCA(n_components=2)  # Para visualização em 2D\n",
        "X_pca = pca.fit_transform(X_train_scaled)\n",
        "\n",
        "# Escolha do número de clusters com o Método do Cotovelo\n",
        "inertia = []\n",
        "k_range = range(2, 11)\n",
        "for k in k_range:\n",
        "    kmeans = KMeans(n_clusters=k, init=\"k-means++\", random_state=42, n_init=10)\n",
        "    kmeans.fit(X_pca)\n",
        "    inertia.append(kmeans.inertia_)\n",
        "\n",
        "# Plot do Método do Cotovelo\n",
        "plt.figure(figsize=(8, 5))\n",
        "plt.plot(k_range, inertia, marker=\"o\", linestyle=\"--\")\n",
        "plt.title(\"Método do Cotovelo\")\n",
        "plt.xlabel(\"Número de Clusters (K)\")\n",
        "plt.ylabel(\"Inércia\")\n",
        "plt.show()\n",
        "\n",
        "# Escolha do K com Silhouette Score\n",
        "silhouette_scores = []\n",
        "for k in k_range:\n",
        "    kmeans = KMeans(n_clusters=k, init=\"k-means++\", random_state=42, n_init=10)\n",
        "    labels = kmeans.fit_predict(X_pca)\n",
        "    silhouette_scores.append(silhouette_score(X_pca, labels))\n",
        "\n",
        "# Plot do Silhouette Score\n",
        "plt.figure(figsize=(8, 5))\n",
        "plt.plot(k_range, silhouette_scores, marker=\"o\", linestyle=\"--\")\n",
        "plt.title(\"Silhouette Score por Número de Clusters\")\n",
        "plt.xlabel(\"Número de Clusters (K)\")\n",
        "plt.ylabel(\"Silhouette Score\")\n",
        "plt.show()\n",
        "\n",
        "# Escolhendo o número ideal de clusters (exemplo: K=3)\n",
        "optimal_k = 3\n",
        "kmeans = KMeans(n_clusters=optimal_k, init=\"k-means++\", random_state=42, n_init=10)\n",
        "clusters = kmeans.fit_predict(X_pca)\n",
        "\n",
        "# Visualização dos clusters em 2D\n",
        "plt.figure(figsize=(10, 7))\n",
        "sns.scatterplot(x=X_pca[:, 0], y=X_pca[:, 1], hue=clusters, palette=\"viridis\", s=50)\n",
        "plt.scatter(kmeans.cluster_centers_[:, 0], kmeans.cluster_centers_[:, 1], s=200, c=\"red\", label=\"Centroides\", marker=\"X\")\n",
        "plt.title(f\"Agrupamento com K-means (K={optimal_k})\")\n",
        "plt.xlabel(\"Componente Principal 1\")\n",
        "plt.ylabel(\"Componente Principal 2\")\n",
        "plt.legend()\n",
        "plt.show()\n"
      ],
      "metadata": {
        "id": "btFXBMROL_rd"
      },
      "execution_count": null,
      "outputs": []
    }
  ]
}